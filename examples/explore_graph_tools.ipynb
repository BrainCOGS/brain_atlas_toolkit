{
 "cells": [
  {
   "cell_type": "markdown",
   "id": "4b00041d",
   "metadata": {},
   "source": [
    "# explore_graph_tools\n",
    "This is a notebook exploring how to use some of the features of the brain-atlas-toolkit graph_tools module"
   ]
  },
  {
   "cell_type": "code",
   "execution_count": 1,
   "id": "d6c051fc",
   "metadata": {},
   "outputs": [],
   "source": [
    "import json\n",
    "from brain_atlas_toolkit import graph_tools"
   ]
  },
  {
   "cell_type": "code",
   "execution_count": 2,
   "id": "0011ce6d",
   "metadata": {},
   "outputs": [],
   "source": [
    "ontology_file = \"../static/allen.json\"\n",
    "with open(ontology_file,'r') as jfile:\n",
    "    ontology_dict = json.load(jfile)\n",
    "    \n",
    "pma_ontology_file = \"../static/pma_ontology.json\"\n",
    "with open(pma_ontology_file,'r') as jfile:\n",
    "    pma_ontology_dict = json.load(jfile)"
   ]
  },
  {
   "cell_type": "code",
   "execution_count": 3,
   "id": "98c8ba3b",
   "metadata": {},
   "outputs": [],
   "source": [
    "ontology_graph = graph_tools.Graph(ontology_dict)\n",
    "pma_ontology_graph = graph_tools.Graph(pma_ontology_dict)"
   ]
  },
  {
   "cell_type": "markdown",
   "id": "627bff8c",
   "metadata": {},
   "source": [
    "## See the hierarchy of the atlas starting at this region"
   ]
  },
  {
   "cell_type": "code",
   "execution_count": null,
   "id": "529b34fa",
   "metadata": {},
   "outputs": [],
   "source": [
    "mystr = ontology_graph.print_branch('Somatomotor areas')"
   ]
  },
  {
   "cell_type": "code",
   "execution_count": null,
   "id": "15ce5b10",
   "metadata": {},
   "outputs": [],
   "source": [
    "print(mystr)"
   ]
  },
  {
   "cell_type": "markdown",
   "id": "94ba64fb",
   "metadata": {},
   "source": [
    "## Get all progeny (a.k.a. descendents or subregions) of a region of interest returned in a flattened list. "
   ]
  },
  {
   "cell_type": "code",
   "execution_count": 4,
   "id": "382f8429",
   "metadata": {},
   "outputs": [
    {
     "name": "stdout",
     "output_type": "stream",
     "text": [
      "Somatomotor areas 0\n",
      "Somatomotor areas, Layer 1 1\n",
      "level > stoplevel\n",
      "after helper call\n",
      "Somatomotor areas, Layer 2/3 1\n",
      "level > stoplevel\n",
      "after helper call\n",
      "Somatomotor areas, Layer 5 1\n",
      "level > stoplevel\n",
      "after helper call\n",
      "Somatomotor areas, Layer 6a 1\n",
      "level > stoplevel\n",
      "after helper call\n",
      "Somatomotor areas, Layer 6b 1\n",
      "level > stoplevel\n",
      "after helper call\n",
      "Primary motor area 1\n",
      "level > stoplevel\n",
      "after helper call\n",
      "Secondary motor area 1\n",
      "level > stoplevel\n",
      "after helper call\n",
      "at end of helper\n"
     ]
    }
   ],
   "source": [
    "prog = ontology_graph.get_progeny('Somatomotor areas',stoplevel=1)"
   ]
  },
  {
   "cell_type": "code",
   "execution_count": 5,
   "id": "1602a563",
   "metadata": {},
   "outputs": [
    {
     "data": {
      "text/plain": [
       "['Somatomotor areas, Layer 1',\n",
       " 'Somatomotor areas, Layer 2/3',\n",
       " 'Somatomotor areas, Layer 5',\n",
       " 'Somatomotor areas, Layer 6a',\n",
       " 'Somatomotor areas, Layer 6b',\n",
       " 'Primary motor area',\n",
       " 'Secondary motor area']"
      ]
     },
     "execution_count": 5,
     "metadata": {},
     "output_type": "execute_result"
    }
   ],
   "source": [
    "prog"
   ]
  },
  {
   "cell_type": "code",
   "execution_count": 6,
   "id": "df5485d8",
   "metadata": {},
   "outputs": [
    {
     "name": "stdout",
     "output_type": "stream",
     "text": [
      " 0 Somatomotor areas\n",
      "\t 1 Somatomotor areas, Layer 1\n",
      "\t 1 Somatomotor areas, Layer 2/3\n",
      "\t 1 Somatomotor areas, Layer 5\n",
      "\t 1 Somatomotor areas, Layer 6a\n",
      "\t 1 Somatomotor areas, Layer 6b\n",
      "\t 1 Primary motor area\n",
      "\t\t 2 Primary motor area, Layer 1\n",
      "\t\t 2 Primary motor area, Layer 2/3\n",
      "\t\t 2 Primary motor area, Layer 5\n",
      "\t\t 2 Primary motor area, Layer 6a\n",
      "\t\t 2 Primary motor area, Layer 6b\n",
      "\t 1 Secondary motor area\n",
      "\t\t 2 Secondary motor area, layer 1\n",
      "\t\t 2 Secondary motor area, layer 2/3\n",
      "\t\t 2 Secondary motor area, layer 5\n",
      "\t\t 2 Secondary motor area, layer 6a\n",
      "\t\t 2 Secondary motor area, layer 6b\n"
     ]
    },
    {
     "data": {
      "text/plain": [
       "' 0 Somatomotor areas\\n\\t 1 Somatomotor areas, Layer 1\\n\\t 1 Somatomotor areas, Layer 2/3\\n\\t 1 Somatomotor areas, Layer 5\\n\\t 1 Somatomotor areas, Layer 6a\\n\\t 1 Somatomotor areas, Layer 6b\\n\\t 1 Primary motor area\\n\\t\\t 2 Primary motor area, Layer 1\\n\\t\\t 2 Primary motor area, Layer 2/3\\n\\t\\t 2 Primary motor area, Layer 5\\n\\t\\t 2 Primary motor area, Layer 6a\\n\\t\\t 2 Primary motor area, Layer 6b\\n\\t 1 Secondary motor area\\n\\t\\t 2 Secondary motor area, layer 1\\n\\t\\t 2 Secondary motor area, layer 2/3\\n\\t\\t 2 Secondary motor area, layer 5\\n\\t\\t 2 Secondary motor area, layer 6a\\n\\t\\t 2 Secondary motor area, layer 6b\\n'"
      ]
     },
     "execution_count": 6,
     "metadata": {},
     "output_type": "execute_result"
    }
   ],
   "source": [
    "ontology_graph.print_branch('Somatomotor areas',stoplevel=-1)"
   ]
  },
  {
   "cell_type": "code",
   "execution_count": null,
   "id": "0907b914",
   "metadata": {},
   "outputs": [],
   "source": [
    "ontology_graph.get_progeny('Somatomotor areas')"
   ]
  },
  {
   "cell_type": "code",
   "execution_count": null,
   "id": "58f45fc5",
   "metadata": {},
   "outputs": [],
   "source": [
    "ontology_graph.get_progenitors('Cerebellar nuclei')"
   ]
  },
  {
   "cell_type": "code",
   "execution_count": null,
   "id": "57b58cf6",
   "metadata": {},
   "outputs": [],
   "source": [
    "ontology_graph.get_progenitors('Somatomotor areas')"
   ]
  },
  {
   "cell_type": "code",
   "execution_count": null,
   "id": "6ca0c676",
   "metadata": {},
   "outputs": [],
   "source": [
    "ontology_graph.get_progenitors('root')"
   ]
  },
  {
   "cell_type": "code",
   "execution_count": null,
   "id": "0d8a970d",
   "metadata": {},
   "outputs": [],
   "source": [
    "ontology_graph.get_progenitors('garbage')"
   ]
  },
  {
   "cell_type": "markdown",
   "id": "b829e20f",
   "metadata": {},
   "source": [
    "# Get the id of a region in the atlas by name "
   ]
  },
  {
   "cell_type": "code",
   "execution_count": null,
   "id": "d151cb0e",
   "metadata": {},
   "outputs": [],
   "source": [
    "ontology_graph.get_id('Somatomotor areas')"
   ]
  },
  {
   "cell_type": "code",
   "execution_count": null,
   "id": "e75f5bca",
   "metadata": {},
   "outputs": [],
   "source": [
    "# get ids of all of the progeny of this region\n",
    "progeny = ontology_graph.get_progeny('Somatomotor areas')\n",
    "list(map(ontology_graph.get_id,progeny))"
   ]
  },
  {
   "cell_type": "markdown",
   "id": "558fdbde",
   "metadata": {},
   "source": [
    "## Get the parent of a region by name"
   ]
  },
  {
   "cell_type": "code",
   "execution_count": null,
   "id": "2b4cee20",
   "metadata": {},
   "outputs": [],
   "source": [
    "ontology_graph.get_parent('Somatomotor areas')"
   ]
  },
  {
   "cell_type": "code",
   "execution_count": null,
   "id": "52f77ff9",
   "metadata": {},
   "outputs": [],
   "source": [
    "# Note that the root of the ontology has no parent\n",
    "ontology_graph.get_parent('root') # returns None"
   ]
  },
  {
   "cell_type": "markdown",
   "id": "799f2440",
   "metadata": {},
   "source": [
    "## Get the acronym of a region by name\n",
    "Might not always be available if using a custom ontology"
   ]
  },
  {
   "cell_type": "code",
   "execution_count": null,
   "id": "6d5888b9",
   "metadata": {},
   "outputs": [],
   "source": [
    "ontology_graph.get_acronym('Somatomotor areas')"
   ]
  },
  {
   "cell_type": "code",
   "execution_count": null,
   "id": "2711b477",
   "metadata": {
    "scrolled": false
   },
   "outputs": [],
   "source": [
    "allen_cb = ontology_graph.print_branch('Cerebellum')\n",
    "pma_cb = pma_ontology_graph.print_branch('Cerebellum')"
   ]
  },
  {
   "cell_type": "code",
   "execution_count": null,
   "id": "5bf45629",
   "metadata": {},
   "outputs": [],
   "source": [
    "allen_cb == pma_cb"
   ]
  },
  {
   "cell_type": "code",
   "execution_count": null,
   "id": "f41ede1b",
   "metadata": {},
   "outputs": [],
   "source": []
  }
 ],
 "metadata": {
  "kernelspec": {
   "display_name": "neuro",
   "language": "python",
   "name": "neuro"
  },
  "language_info": {
   "codemirror_mode": {
    "name": "ipython",
    "version": 3
   },
   "file_extension": ".py",
   "mimetype": "text/x-python",
   "name": "python",
   "nbconvert_exporter": "python",
   "pygments_lexer": "ipython3",
   "version": "3.8.11"
  }
 },
 "nbformat": 4,
 "nbformat_minor": 5
}
