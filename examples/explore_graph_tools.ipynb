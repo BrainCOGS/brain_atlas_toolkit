{
 "cells": [
  {
   "cell_type": "markdown",
   "id": "a751e3ad",
   "metadata": {},
   "source": [
    "# explore_graph_tools\n",
    "This is a notebook exploring how to use some of the features of the brain-atlas-toolkit graph_tools module"
   ]
  },
  {
   "cell_type": "code",
   "execution_count": 1,
   "id": "434b3ff6",
   "metadata": {},
   "outputs": [],
   "source": [
    "import json\n",
    "from brain_atlas_toolkit import graph_tools"
   ]
  },
  {
   "cell_type": "code",
   "execution_count": 17,
   "id": "41888247",
   "metadata": {},
   "outputs": [],
   "source": [
    "ontology_file = \"../static/allen.json\"\n",
    "with open(ontology_file,'r') as jfile:\n",
    "    ontology_dict = json.load(jfile)\n",
    "    \n",
    "pma_ontology_file = \"../static/pma_ontology.json\"\n",
    "with open(pma_ontology_file,'r') as jfile:\n",
    "    pma_ontology_dict = json.load(jfile)"
   ]
  },
  {
   "cell_type": "code",
   "execution_count": 18,
   "id": "6d352958",
   "metadata": {},
   "outputs": [],
   "source": [
    "ontology_graph = graph_tools.Graph(ontology_dict)\n",
    "pma_ontology_graph = graph_tools.Graph(pma_ontology_dict)"
   ]
  },
  {
   "cell_type": "markdown",
   "id": "62c51ebe",
   "metadata": {},
   "source": [
    "## See the hierarchy of the atlas starting at this region"
   ]
  },
  {
   "cell_type": "code",
   "execution_count": 4,
   "id": "fdd9ec2e",
   "metadata": {},
   "outputs": [
    {
     "name": "stdout",
     "output_type": "stream",
     "text": [
      " 0 Somatomotor areas\n",
      "\t 1 Somatomotor areas, Layer 1\n",
      "\t 1 Somatomotor areas, Layer 2/3\n",
      "\t 1 Somatomotor areas, Layer 5\n",
      "\t 1 Somatomotor areas, Layer 6a\n",
      "\t 1 Somatomotor areas, Layer 6b\n",
      "\t 1 Primary motor area\n",
      "\t\t 2 Primary motor area, Layer 1\n",
      "\t\t 2 Primary motor area, Layer 2/3\n",
      "\t\t 2 Primary motor area, Layer 5\n",
      "\t\t 2 Primary motor area, Layer 6a\n",
      "\t\t 2 Primary motor area, Layer 6b\n",
      "\t 1 Secondary motor area\n",
      "\t\t 2 Secondary motor area, layer 1\n",
      "\t\t 2 Secondary motor area, layer 2/3\n",
      "\t\t 2 Secondary motor area, layer 5\n",
      "\t\t 2 Secondary motor area, layer 6a\n",
      "\t\t 2 Secondary motor area, layer 6b\n"
     ]
    }
   ],
   "source": [
    "mystr = ontology_graph.print_branch('Somatomotor areas')"
   ]
  },
  {
   "cell_type": "code",
   "execution_count": 6,
   "id": "f023c660",
   "metadata": {},
   "outputs": [
    {
     "name": "stdout",
     "output_type": "stream",
     "text": [
      " 0 Somatomotor areas\n",
      "\t 1 Somatomotor areas, Layer 1\n",
      "\t 1 Somatomotor areas, Layer 2/3\n",
      "\t 1 Somatomotor areas, Layer 5\n",
      "\t 1 Somatomotor areas, Layer 6a\n",
      "\t 1 Somatomotor areas, Layer 6b\n",
      "\t 1 Primary motor area\n",
      "\t\t 2 Primary motor area, Layer 1\n",
      "\t\t 2 Primary motor area, Layer 2/3\n",
      "\t\t 2 Primary motor area, Layer 5\n",
      "\t\t 2 Primary motor area, Layer 6a\n",
      "\t\t 2 Primary motor area, Layer 6b\n",
      "\t 1 Secondary motor area\n",
      "\t\t 2 Secondary motor area, layer 1\n",
      "\t\t 2 Secondary motor area, layer 2/3\n",
      "\t\t 2 Secondary motor area, layer 5\n",
      "\t\t 2 Secondary motor area, layer 6a\n",
      "\t\t 2 Secondary motor area, layer 6b\n",
      "\n"
     ]
    }
   ],
   "source": [
    "print(mystr)"
   ]
  },
  {
   "cell_type": "markdown",
   "id": "ef76c038",
   "metadata": {},
   "source": [
    "## Get all progeny (a.k.a. descendents or subregions) of a region of interest returned in a flattened list. "
   ]
  },
  {
   "cell_type": "code",
   "execution_count": 23,
   "id": "0acb0e60",
   "metadata": {},
   "outputs": [
    {
     "data": {
      "text/plain": [
       "['Somatomotor areas, Layer 1',\n",
       " 'Somatomotor areas, Layer 2/3',\n",
       " 'Somatomotor areas, Layer 5',\n",
       " 'Somatomotor areas, Layer 6a',\n",
       " 'Somatomotor areas, Layer 6b',\n",
       " 'Primary motor area',\n",
       " 'Primary motor area, Layer 1',\n",
       " 'Primary motor area, Layer 2/3',\n",
       " 'Primary motor area, Layer 5',\n",
       " 'Primary motor area, Layer 6a',\n",
       " 'Primary motor area, Layer 6b',\n",
       " 'Secondary motor area',\n",
       " 'Secondary motor area, layer 1',\n",
       " 'Secondary motor area, layer 2/3',\n",
       " 'Secondary motor area, layer 5',\n",
       " 'Secondary motor area, layer 6a',\n",
       " 'Secondary motor area, layer 6b']"
      ]
     },
     "execution_count": 23,
     "metadata": {},
     "output_type": "execute_result"
    }
   ],
   "source": [
    "ontology_graph.get_progeny('Somatomotor areas')"
   ]
  },
  {
   "cell_type": "markdown",
   "id": "023449d8",
   "metadata": {},
   "source": [
    "# Get the id of a region in the atlas by name "
   ]
  },
  {
   "cell_type": "code",
   "execution_count": null,
   "id": "3daaecd3",
   "metadata": {},
   "outputs": [],
   "source": [
    "ontology_graph.get_id('Somatomotor areas')"
   ]
  },
  {
   "cell_type": "code",
   "execution_count": null,
   "id": "0d437b6a",
   "metadata": {},
   "outputs": [],
   "source": [
    "# get ids of all of the progeny of this region\n",
    "progeny = ontology_graph.get_progeny('Somatomotor areas')\n",
    "list(map(ontology_graph.get_id,progeny))"
   ]
  },
  {
   "cell_type": "markdown",
   "id": "179d7589",
   "metadata": {},
   "source": [
    "## Get the parent of a region by name"
   ]
  },
  {
   "cell_type": "code",
   "execution_count": null,
   "id": "b98cfae5",
   "metadata": {},
   "outputs": [],
   "source": [
    "ontology_graph.get_parent('Somatomotor areas')"
   ]
  },
  {
   "cell_type": "code",
   "execution_count": null,
   "id": "b3c9ddae",
   "metadata": {},
   "outputs": [],
   "source": [
    "# Note that the root of the ontology has no parent\n",
    "ontology_graph.get_parent('root') # returns None"
   ]
  },
  {
   "cell_type": "markdown",
   "id": "49c038ca",
   "metadata": {},
   "source": [
    "## Get the acronym of a region by name\n",
    "Might not always be available if using a custom ontology"
   ]
  },
  {
   "cell_type": "code",
   "execution_count": 20,
   "id": "64b417bb",
   "metadata": {},
   "outputs": [
    {
     "data": {
      "text/plain": [
       "'MO'"
      ]
     },
     "execution_count": 20,
     "metadata": {},
     "output_type": "execute_result"
    }
   ],
   "source": [
    "ontology_graph.get_acronym('Somatomotor areas')"
   ]
  },
  {
   "cell_type": "code",
   "execution_count": 21,
   "id": "bfb6e980",
   "metadata": {
    "scrolled": false
   },
   "outputs": [
    {
     "name": "stdout",
     "output_type": "stream",
     "text": [
      " 0 Cerebellum\n",
      "\t 1 Cerebellar cortex\n",
      "\t\t 2 Cerebellar cortex, molecular layer\n",
      "\t\t 2 Cerebellar cortex, Purkinje layer\n",
      "\t\t 2 Cerebellar cortex, granular layer\n",
      "\t\t 2 Vermal regions\n",
      "\t\t\t 3 Lingula (I)\n",
      "\t\t\t\t 4 Lingula (I), molecular layer\n",
      "\t\t\t\t 4 Lingula (I), Purkinje layer\n",
      "\t\t\t\t 4 Lingula (I), granular layer\n",
      "\t\t\t 3 Central lobule\n",
      "\t\t\t\t 4 Lobule II\n",
      "\t\t\t\t\t 5 Lobule II, molecular layer\n",
      "\t\t\t\t\t 5 Lobule II, Purkinje layer\n",
      "\t\t\t\t\t 5 Lobule II, granular layer\n",
      "\t\t\t\t 4 Lobule III\n",
      "\t\t\t\t\t 5 Lobule III, molecular layer\n",
      "\t\t\t\t\t 5 Lobule III, Purkinje layer\n",
      "\t\t\t\t\t 5 Lobule III, granular layer\n",
      "\t\t\t 3 Culmen\n",
      "\t\t\t\t 4 Lobule IV\n",
      "\t\t\t\t\t 5 Lobule IV, molecular layer\n",
      "\t\t\t\t\t 5 Lobule IV, Purkinje layer\n",
      "\t\t\t\t\t 5 Lobule IV, granular layer\n",
      "\t\t\t\t 4 Lobule V\n",
      "\t\t\t\t\t 5 Lobule V, molecular layer\n",
      "\t\t\t\t\t 5 Lobule V, Purkinje layer\n",
      "\t\t\t\t\t 5 Lobule V, granular layer\n",
      "\t\t\t\t 4 Lobules IV-V\n",
      "\t\t\t\t\t 5 Lobules IV-V, molecular layer\n",
      "\t\t\t\t\t 5 Lobules IV-V, Purkinje layer\n",
      "\t\t\t\t\t 5 Lobules IV-V, granular layer\n",
      "\t\t\t 3 Declive (VI)\n",
      "\t\t\t\t 4 Declive (VI), molecular layer\n",
      "\t\t\t\t 4 Declive (VI), Purkinje layer\n",
      "\t\t\t\t 4 Declive (VI), granular layer\n",
      "\t\t\t 3 Folium-tuber vermis (VII)\n",
      "\t\t\t\t 4 Folium-tuber vermis (VII), molecular layer\n",
      "\t\t\t\t 4 Folium-tuber vermis (VII), Purkinje layer\n",
      "\t\t\t\t 4 Folium-tuber vermis (VII), granular layer\n",
      "\t\t\t 3 Pyramus (VIII)\n",
      "\t\t\t\t 4 Pyramus (VIII), molecular layer\n",
      "\t\t\t\t 4 Pyramus (VIII), Purkinje layer\n",
      "\t\t\t\t 4 Pyramus (VIII), granular layer\n",
      "\t\t\t 3 Uvula (IX)\n",
      "\t\t\t\t 4 Uvula (IX), molecular layer\n",
      "\t\t\t\t 4 Uvula (IX), Purkinje layer\n",
      "\t\t\t\t 4 Uvula (IX), granular layer\n",
      "\t\t\t 3 Nodulus (X)\n",
      "\t\t\t\t 4 Nodulus (X), molecular layer\n",
      "\t\t\t\t 4 Nodulus (X), Purkinje layer\n",
      "\t\t\t\t 4 Nodulus (X), granular layer\n",
      "\t\t 2 Hemispheric regions\n",
      "\t\t\t 3 Simple lobule\n",
      "\t\t\t\t 4 Simple lobule, molecular layer\n",
      "\t\t\t\t 4 Simple lobule, Purkinje layer\n",
      "\t\t\t\t 4 Simple lobule, granular layer\n",
      "\t\t\t 3 Ansiform lobule\n",
      "\t\t\t\t 4 Crus 1\n",
      "\t\t\t\t\t 5 Crus 1, molecular layer\n",
      "\t\t\t\t\t 5 Crus 1, Purkinje layer\n",
      "\t\t\t\t\t 5 Crus 1, granular layer\n",
      "\t\t\t\t 4 Crus 2\n",
      "\t\t\t\t\t 5 Crus 2, molecular layer\n",
      "\t\t\t\t\t 5 Crus 2, Purkinje layer\n",
      "\t\t\t\t\t 5 Crus 2, granular layer\n",
      "\t\t\t 3 Paramedian lobule\n",
      "\t\t\t\t 4 Paramedian lobule, molecular layer\n",
      "\t\t\t\t 4 Paramedian lobule, Purkinje layer\n",
      "\t\t\t\t 4 Paramedian lobule, granular layer\n",
      "\t\t\t 3 Copula pyramidis\n",
      "\t\t\t\t 4 Copula pyramidis, molecular layer\n",
      "\t\t\t\t 4 Copula pyramidis, Purkinje layer\n",
      "\t\t\t\t 4 Copula pyramidis, granular layer\n",
      "\t\t\t 3 Paraflocculus\n",
      "\t\t\t\t 4 Paraflocculus, molecular layer\n",
      "\t\t\t\t 4 Paraflocculus, Purkinje layer\n",
      "\t\t\t\t 4 Paraflocculus, granular layer\n",
      "\t\t\t 3 Flocculus\n",
      "\t\t\t\t 4 Flocculus, molecular layer\n",
      "\t\t\t\t 4 Flocculus, Purkinje layer\n",
      "\t\t\t\t 4 Flocculus, granular layer\n",
      "\t 1 Cerebellar nuclei\n",
      "\t\t 2 Fastigial nucleus\n",
      "\t\t 2 Interposed nucleus\n",
      "\t\t 2 Dentate nucleus\n",
      "\t\t 2 Vestibulocerebellar nucleus\n",
      " 0 Cerebellum\n",
      "\t 1 Cerebellar nuclei\n",
      "\t\t 2 Interposed nucleus\n",
      "\t\t 2 Dentate nucleus\n",
      "\t\t 2 Fastigial nucleus\n",
      "\t\t 2 Vestibulocerebellar nucleus\n",
      "\t 1 Cerebellar cortex\n",
      "\t\t 2 Vermal regions\n",
      "\t\t\t 3 Lingula (I)\n",
      "\t\t\t\t 4 Lingula (I), granular layer\n",
      "\t\t\t\t 4 Lingula (I), Purkinje layer\n",
      "\t\t\t\t 4 Lingula (I), molecular layer\n",
      "\t\t\t 3 Central lobule\n",
      "\t\t\t\t 4 Lobule II\n",
      "\t\t\t\t\t 5 Lobule II, granular layer\n",
      "\t\t\t\t\t 5 Lobule II, Purkinje layer\n",
      "\t\t\t\t\t 5 Lobule II, molecular layer\n",
      "\t\t\t\t 4 Lobule III\n",
      "\t\t\t\t\t 5 Lobule III, granular layer\n",
      "\t\t\t\t\t 5 Lobule III, Purkinje layer\n",
      "\t\t\t\t\t 5 Lobule III, molecular layer\n",
      "\t\t\t 3 Culmen\n",
      "\t\t\t\t 4 Lobule IV\n",
      "\t\t\t\t\t 5 Lobule IV, granular layer\n",
      "\t\t\t\t\t 5 Lobule IV, Purkinje layer\n",
      "\t\t\t\t\t 5 Lobule IV, molecular layer\n",
      "\t\t\t\t 4 Lobule V\n",
      "\t\t\t\t\t 5 Lobule V, granular layer\n",
      "\t\t\t\t\t 5 Lobule V, Purkinje layer\n",
      "\t\t\t\t\t 5 Lobule V, molecular layer\n",
      "\t\t\t\t 4 Lobules IV-V\n",
      "\t\t\t\t\t 5 Lobules IV-V, Purkinje layer\n",
      "\t\t\t\t\t 5 Lobules IV-V, molecular layer\n",
      "\t\t\t 3 Folium-tuber vermis (VII)\n",
      "\t\t\t\t 4 Folium-tuber vermis (VII), granular layer\n",
      "\t\t\t\t 4 Folium-tuber vermis (VII), Purkinje layer\n",
      "\t\t\t\t 4 Folium-tuber vermis (VII), molecular layer\n",
      "\t\t\t 3 Pyramus (VIII)\n",
      "\t\t\t\t 4 Pyramus (VIII), granular layer\n",
      "\t\t\t\t 4 Pyramus (VIII), Purkinje layer\n",
      "\t\t\t\t 4 Pyramus (VIII), molecular layer\n",
      "\t\t\t 3 Uvula (IX)\n",
      "\t\t\t\t 4 Uvula (IX), granular layer\n",
      "\t\t\t\t 4 Uvula (IX), Purkinje layer\n",
      "\t\t\t\t 4 Uvula (IX), molecular layer\n",
      "\t\t\t 3 Nodulus (X)\n",
      "\t\t\t\t 4 Nodulus (X), granular layer\n",
      "\t\t\t\t 4 Nodulus (X), Purkinje layer\n",
      "\t\t\t\t 4 Nodulus (X), molecular layer\n",
      "\t\t\t 3 Declive (VI)\n",
      "\t\t\t\t 4 Declive (VI), subdivision A\n",
      "\t\t\t\t\t 5 Declive (VI), granular layer\n",
      "\t\t\t\t\t 5 Declive (VI), Purkinje layer\n",
      "\t\t\t\t\t 5 Declive (VI), molecular layer\n",
      "\t\t\t\t 4 Declive (VI), subdivision B\n",
      "\t\t 2 Hemispheric regions\n",
      "\t\t\t 3 Simplex lobule\n",
      "\t\t\t\t 4 Simplex lobule, granular layer\n",
      "\t\t\t\t 4 Simplex lobule, Purkinje layer\n",
      "\t\t\t\t 4 Simplex lobule, molecular layer\n",
      "\t\t\t 3 Ansiform lobule\n",
      "\t\t\t\t 4 Crus 1\n",
      "\t\t\t\t\t 5 Crus 1, granular layer\n",
      "\t\t\t\t\t 5 Crus 1, Purkinje layer\n",
      "\t\t\t\t\t 5 Crus 1, molecular layer\n",
      "\t\t\t\t 4 Crus 2\n",
      "\t\t\t\t\t 5 Crus 2, granular layer\n",
      "\t\t\t\t\t 5 Crus 2, Purkinje layer\n",
      "\t\t\t\t\t 5 Crus 2, molecular layer\n",
      "\t\t\t 3 Paramedian lobule\n",
      "\t\t\t\t 4 Paramedian lobule, granular layer\n",
      "\t\t\t\t 4 Paramedian lobule, Purkinje layer\n",
      "\t\t\t\t 4 Paramedian lobule, molecular layer\n",
      "\t\t\t 3 Copula pyramidis\n",
      "\t\t\t\t 4 Copula pyramidis, granular layer\n",
      "\t\t\t\t 4 Copula pyramidis, Purkinje layer\n",
      "\t\t\t\t 4 Copula pyramidis, molecular layer\n",
      "\t\t\t 3 Paraflocculus\n",
      "\t\t\t\t 4 Paraflocculus, granular layer\n",
      "\t\t\t\t 4 Paraflocculus, Purkinje layer\n",
      "\t\t\t\t 4 Paraflocculus, molecular layer\n",
      "\t\t\t 3 Flocculus\n",
      "\t\t\t\t 4 Flocculus, granular layer\n",
      "\t\t\t\t 4 Flocculus, Purkinje layer\n",
      "\t\t\t\t 4 Flocculus, molecular layer\n",
      "\t\t 2 Cerebellar cortex, granular layer\n",
      "\t\t 2 Cerebellar cortex, molecular layer\n",
      "\t\t 2 Cerebellar cortex, Purkinje layer\n"
     ]
    }
   ],
   "source": [
    "allen_cb = ontology_graph.print_branch('Cerebellum')\n",
    "pma_cb = pma_ontology_graph.print_branch('Cerebellum')"
   ]
  },
  {
   "cell_type": "code",
   "execution_count": 22,
   "id": "7cc80346",
   "metadata": {},
   "outputs": [
    {
     "data": {
      "text/plain": [
       "False"
      ]
     },
     "execution_count": 22,
     "metadata": {},
     "output_type": "execute_result"
    }
   ],
   "source": [
    "allen_cb == pma_cb"
   ]
  },
  {
   "cell_type": "code",
   "execution_count": null,
   "id": "4e447d06",
   "metadata": {},
   "outputs": [],
   "source": []
  }
 ],
 "metadata": {
  "kernelspec": {
   "display_name": "neuro",
   "language": "python",
   "name": "neuro"
  },
  "language_info": {
   "codemirror_mode": {
    "name": "ipython",
    "version": 3
   },
   "file_extension": ".py",
   "mimetype": "text/x-python",
   "name": "python",
   "nbconvert_exporter": "python",
   "pygments_lexer": "ipython3",
   "version": "3.8.11"
  }
 },
 "nbformat": 4,
 "nbformat_minor": 5
}
