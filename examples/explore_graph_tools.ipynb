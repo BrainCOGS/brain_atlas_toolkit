{
 "cells": [
  {
   "cell_type": "markdown",
   "id": "62f3c8b5",
   "metadata": {},
   "source": [
    "# explore_graph_tools\n",
    "This is a notebook exploring how to use some of the features of the brain-atlas-toolkit graph_tools module"
   ]
  },
  {
   "cell_type": "code",
   "execution_count": 1,
   "id": "ae0c2d0c",
   "metadata": {},
   "outputs": [],
   "source": [
    "import json\n",
    "from brain_atlas_toolkit import graph_tools"
   ]
  },
  {
   "cell_type": "code",
   "execution_count": 2,
   "id": "8ccee90a",
   "metadata": {},
   "outputs": [],
   "source": [
    "ontology_file = \"../static/allen.json\"\n",
    "with open(ontology_file,'r') as jfile:\n",
    "    ontology_dict = json.load(jfile)\n",
    "    \n",
    "pma_ontology_file = \"../static/pma_ontology.json\"\n",
    "with open(pma_ontology_file,'r') as jfile:\n",
    "    pma_ontology_dict = json.load(jfile)"
   ]
  },
  {
   "cell_type": "code",
   "execution_count": 3,
   "id": "6bdd610d",
   "metadata": {},
   "outputs": [],
   "source": [
    "ontology_graph = graph_tools.Graph(ontology_dict)\n",
    "pma_ontology_graph = graph_tools.Graph(pma_ontology_dict)"
   ]
  },
  {
   "cell_type": "code",
   "execution_count": 4,
   "id": "db580bb8",
   "metadata": {},
   "outputs": [],
   "source": [
    "prog = ontology_graph.get_progeny(\"Isocortex\",stoplevel=1)"
   ]
  },
  {
   "cell_type": "code",
   "execution_count": 5,
   "id": "aa24148d",
   "metadata": {},
   "outputs": [
    {
     "data": {
      "text/plain": [
       "17"
      ]
     },
     "execution_count": 5,
     "metadata": {},
     "output_type": "execute_result"
    }
   ],
   "source": [
    "len(prog)"
   ]
  },
  {
   "cell_type": "markdown",
   "id": "29f2706e",
   "metadata": {},
   "source": [
    "## See the hierarchy of the atlas starting at this region"
   ]
  },
  {
   "cell_type": "code",
   "execution_count": null,
   "id": "98a58b8b",
   "metadata": {},
   "outputs": [],
   "source": [
    "mystr = ontology_graph.print_branch('Somatomotor areas')"
   ]
  },
  {
   "cell_type": "code",
   "execution_count": null,
   "id": "512de01c",
   "metadata": {},
   "outputs": [],
   "source": [
    "print(mystr)"
   ]
  },
  {
   "cell_type": "markdown",
   "id": "4858ec1e",
   "metadata": {},
   "source": [
    "## Get all progeny (a.k.a. descendents or subregions) of a region of interest returned in a flattened list. "
   ]
  },
  {
   "cell_type": "code",
   "execution_count": null,
   "id": "a228a1ae",
   "metadata": {},
   "outputs": [],
   "source": [
    "prog = ontology_graph.get_progeny('Somatomotor areas',stoplevel=1)"
   ]
  },
  {
   "cell_type": "code",
   "execution_count": null,
   "id": "d3c7d90f",
   "metadata": {},
   "outputs": [],
   "source": [
    "prog"
   ]
  },
  {
   "cell_type": "code",
   "execution_count": null,
   "id": "07ad2954",
   "metadata": {},
   "outputs": [],
   "source": [
    "ontology_graph.print_branch('Somatomotor areas',stoplevel=-1)"
   ]
  },
  {
   "cell_type": "code",
   "execution_count": null,
   "id": "99a7827b",
   "metadata": {},
   "outputs": [],
   "source": [
    "ontology_graph.get_progeny('Somatomotor areas')"
   ]
  },
  {
   "cell_type": "code",
   "execution_count": null,
   "id": "58b0c270",
   "metadata": {},
   "outputs": [],
   "source": [
    "ontology_graph.get_progenitors('Cerebellar nuclei')"
   ]
  },
  {
   "cell_type": "code",
   "execution_count": null,
   "id": "285f5afc",
   "metadata": {},
   "outputs": [],
   "source": [
    "ontology_graph.get_progenitors('Somatomotor areas')"
   ]
  },
  {
   "cell_type": "code",
   "execution_count": null,
   "id": "84745605",
   "metadata": {},
   "outputs": [],
   "source": [
    "ontology_graph.get_progenitors('root')"
   ]
  },
  {
   "cell_type": "code",
   "execution_count": null,
   "id": "c09a9f0f",
   "metadata": {},
   "outputs": [],
   "source": [
    "ontology_graph.get_progenitors('garbage')"
   ]
  },
  {
   "cell_type": "markdown",
   "id": "17f428a4",
   "metadata": {},
   "source": [
    "# Get the id of a region in the atlas by name "
   ]
  },
  {
   "cell_type": "code",
   "execution_count": null,
   "id": "49f5985f",
   "metadata": {},
   "outputs": [],
   "source": [
    "ontology_graph.get_id('Somatomotor areas')"
   ]
  },
  {
   "cell_type": "code",
   "execution_count": null,
   "id": "3b2c3d46",
   "metadata": {},
   "outputs": [],
   "source": [
    "# get ids of all of the progeny of this region\n",
    "progeny = ontology_graph.get_progeny('Somatomotor areas')\n",
    "list(map(ontology_graph.get_id,progeny))"
   ]
  },
  {
   "cell_type": "markdown",
   "id": "a88c380c",
   "metadata": {},
   "source": [
    "## Get the parent of a region by name"
   ]
  },
  {
   "cell_type": "code",
   "execution_count": null,
   "id": "7f1e6ec1",
   "metadata": {},
   "outputs": [],
   "source": [
    "ontology_graph.get_parent('Somatomotor areas')"
   ]
  },
  {
   "cell_type": "code",
   "execution_count": null,
   "id": "39a6e481",
   "metadata": {},
   "outputs": [],
   "source": [
    "# Note that the root of the ontology has no parent\n",
    "ontology_graph.get_parent('root') # returns None"
   ]
  },
  {
   "cell_type": "markdown",
   "id": "62248b4e",
   "metadata": {},
   "source": [
    "## Get the acronym of a region by name\n",
    "Might not always be available if using a custom ontology"
   ]
  },
  {
   "cell_type": "code",
   "execution_count": null,
   "id": "8b589067",
   "metadata": {},
   "outputs": [],
   "source": [
    "ontology_graph.get_acronym('Somatomotor areas')"
   ]
  },
  {
   "cell_type": "code",
   "execution_count": null,
   "id": "87b41da8",
   "metadata": {
    "scrolled": false
   },
   "outputs": [],
   "source": [
    "allen_cb = ontology_graph.print_branch('Cerebellum')\n",
    "pma_cb = pma_ontology_graph.print_branch('Cerebellum')"
   ]
  },
  {
   "cell_type": "code",
   "execution_count": null,
   "id": "b48d3264",
   "metadata": {},
   "outputs": [],
   "source": [
    "allen_cb == pma_cb"
   ]
  },
  {
   "cell_type": "code",
   "execution_count": null,
   "id": "dcd86c84",
   "metadata": {},
   "outputs": [],
   "source": []
  }
 ],
 "metadata": {
  "kernelspec": {
   "display_name": "neuro",
   "language": "python",
   "name": "neuro"
  },
  "language_info": {
   "codemirror_mode": {
    "name": "ipython",
    "version": 3
   },
   "file_extension": ".py",
   "mimetype": "text/x-python",
   "name": "python",
   "nbconvert_exporter": "python",
   "pygments_lexer": "ipython3",
   "version": "3.8.11"
  }
 },
 "nbformat": 4,
 "nbformat_minor": 5
}
