{
 "cells": [
  {
   "cell_type": "markdown",
   "id": "574114d2",
   "metadata": {},
   "source": [
    "# explore_graph_tools\n",
    "This is a notebook exploring how to use some of the features of the brain-atlas-toolkit graph_tools module"
   ]
  },
  {
   "cell_type": "code",
   "execution_count": 3,
   "id": "42555044",
   "metadata": {},
   "outputs": [],
   "source": [
    "import json\n",
    "from brain_atlas_toolkit import graph_tools"
   ]
  },
  {
   "cell_type": "code",
   "execution_count": 4,
   "id": "041667b5",
   "metadata": {},
   "outputs": [],
   "source": [
    "ontology_file = \"../static/allen.json\"\n",
    "with open(ontology_file,'r') as jfile:\n",
    "    ontology_dict = json.load(jfile)\n",
    "    \n",
    "pma_ontology_file = \"../static/pma_ontology.json\"\n",
    "with open(pma_ontology_file,'r') as jfile:\n",
    "    pma_ontology_dict = json.load(jfile)"
   ]
  },
  {
   "cell_type": "code",
   "execution_count": 5,
   "id": "752bf168",
   "metadata": {},
   "outputs": [],
   "source": [
    "ontology_graph = graph_tools.Graph(ontology_dict)\n",
    "pma_ontology_graph = graph_tools.Graph(pma_ontology_dict)"
   ]
  },
  {
   "cell_type": "markdown",
   "id": "0d5f352d",
   "metadata": {},
   "source": [
    "## See the hierarchy of the atlas starting at this region"
   ]
  },
  {
   "cell_type": "code",
   "execution_count": 6,
   "id": "f6d0ea79",
   "metadata": {},
   "outputs": [
    {
     "name": "stdout",
     "output_type": "stream",
     "text": [
      " 0 Somatomotor areas\n",
      "\t 1 Somatomotor areas, Layer 1\n",
      "\t 1 Somatomotor areas, Layer 2/3\n",
      "\t 1 Somatomotor areas, Layer 5\n",
      "\t 1 Somatomotor areas, Layer 6a\n",
      "\t 1 Somatomotor areas, Layer 6b\n",
      "\t 1 Primary motor area\n",
      "\t\t 2 Primary motor area, Layer 1\n",
      "\t\t 2 Primary motor area, Layer 2/3\n",
      "\t\t 2 Primary motor area, Layer 5\n",
      "\t\t 2 Primary motor area, Layer 6a\n",
      "\t\t 2 Primary motor area, Layer 6b\n",
      "\t 1 Secondary motor area\n",
      "\t\t 2 Secondary motor area, layer 1\n",
      "\t\t 2 Secondary motor area, layer 2/3\n",
      "\t\t 2 Secondary motor area, layer 5\n",
      "\t\t 2 Secondary motor area, layer 6a\n",
      "\t\t 2 Secondary motor area, layer 6b\n"
     ]
    }
   ],
   "source": [
    "mystr = ontology_graph.print_branch('Somatomotor areas')"
   ]
  },
  {
   "cell_type": "code",
   "execution_count": 7,
   "id": "d1398d8c",
   "metadata": {},
   "outputs": [
    {
     "name": "stdout",
     "output_type": "stream",
     "text": [
      " 0 Somatomotor areas\n",
      "\t 1 Somatomotor areas, Layer 1\n",
      "\t 1 Somatomotor areas, Layer 2/3\n",
      "\t 1 Somatomotor areas, Layer 5\n",
      "\t 1 Somatomotor areas, Layer 6a\n",
      "\t 1 Somatomotor areas, Layer 6b\n",
      "\t 1 Primary motor area\n",
      "\t\t 2 Primary motor area, Layer 1\n",
      "\t\t 2 Primary motor area, Layer 2/3\n",
      "\t\t 2 Primary motor area, Layer 5\n",
      "\t\t 2 Primary motor area, Layer 6a\n",
      "\t\t 2 Primary motor area, Layer 6b\n",
      "\t 1 Secondary motor area\n",
      "\t\t 2 Secondary motor area, layer 1\n",
      "\t\t 2 Secondary motor area, layer 2/3\n",
      "\t\t 2 Secondary motor area, layer 5\n",
      "\t\t 2 Secondary motor area, layer 6a\n",
      "\t\t 2 Secondary motor area, layer 6b\n",
      "\n"
     ]
    }
   ],
   "source": [
    "print(mystr)"
   ]
  },
  {
   "cell_type": "markdown",
   "id": "e858c4b3",
   "metadata": {},
   "source": [
    "## Get all progeny (a.k.a. descendents or subregions) of a region of interest returned in a flattened list. "
   ]
  },
  {
   "cell_type": "code",
   "execution_count": 8,
   "id": "a3ad1b27",
   "metadata": {},
   "outputs": [
    {
     "data": {
      "text/plain": [
       "['Somatomotor areas, Layer 1',\n",
       " 'Somatomotor areas, Layer 2/3',\n",
       " 'Somatomotor areas, Layer 5',\n",
       " 'Somatomotor areas, Layer 6a',\n",
       " 'Somatomotor areas, Layer 6b',\n",
       " 'Primary motor area',\n",
       " 'Primary motor area, Layer 1',\n",
       " 'Primary motor area, Layer 2/3',\n",
       " 'Primary motor area, Layer 5',\n",
       " 'Primary motor area, Layer 6a',\n",
       " 'Primary motor area, Layer 6b',\n",
       " 'Secondary motor area',\n",
       " 'Secondary motor area, layer 1',\n",
       " 'Secondary motor area, layer 2/3',\n",
       " 'Secondary motor area, layer 5',\n",
       " 'Secondary motor area, layer 6a',\n",
       " 'Secondary motor area, layer 6b']"
      ]
     },
     "execution_count": 8,
     "metadata": {},
     "output_type": "execute_result"
    }
   ],
   "source": [
    "ontology_graph.get_progeny('Somatomotor areas')"
   ]
  },
  {
   "cell_type": "code",
   "execution_count": 10,
   "id": "0d849e99",
   "metadata": {},
   "outputs": [
    {
     "data": {
      "text/plain": [
       "['Cerebellum', 'Basic cell groups and regions', 'root']"
      ]
     },
     "execution_count": 10,
     "metadata": {},
     "output_type": "execute_result"
    }
   ],
   "source": [
    "ontology_graph.get_progenitors('Cerebellar nuclei')"
   ]
  },
  {
   "cell_type": "code",
   "execution_count": 11,
   "id": "9c5b6ad8",
   "metadata": {},
   "outputs": [
    {
     "data": {
      "text/plain": [
       "['Isocortex',\n",
       " 'Cortical plate',\n",
       " 'Cerebral cortex',\n",
       " 'Cerebrum',\n",
       " 'Basic cell groups and regions',\n",
       " 'root']"
      ]
     },
     "execution_count": 11,
     "metadata": {},
     "output_type": "execute_result"
    }
   ],
   "source": [
    "ontology_graph.get_progenitors('Frontal pole, cerebral cortex')"
   ]
  },
  {
   "cell_type": "code",
   "execution_count": 12,
   "id": "731ea111",
   "metadata": {},
   "outputs": [
    {
     "data": {
      "text/plain": [
       "[]"
      ]
     },
     "execution_count": 12,
     "metadata": {},
     "output_type": "execute_result"
    }
   ],
   "source": [
    "ontology_graph.get_progenitors('root')"
   ]
  },
  {
   "cell_type": "code",
   "execution_count": 13,
   "id": "70fd3ffc",
   "metadata": {},
   "outputs": [
    {
     "ename": "KeyError",
     "evalue": "'garbage'",
     "output_type": "error",
     "traceback": [
      "\u001b[0;31m---------------------------------------------------------------------------\u001b[0m",
      "\u001b[0;31mKeyError\u001b[0m                                  Traceback (most recent call last)",
      "\u001b[0;32m<ipython-input-13-a05fd050a119>\u001b[0m in \u001b[0;36m<module>\u001b[0;34m\u001b[0m\n\u001b[0;32m----> 1\u001b[0;31m \u001b[0montology_graph\u001b[0m\u001b[0;34m.\u001b[0m\u001b[0mget_progenitors\u001b[0m\u001b[0;34m(\u001b[0m\u001b[0;34m'garbage'\u001b[0m\u001b[0;34m)\u001b[0m\u001b[0;34m\u001b[0m\u001b[0;34m\u001b[0m\u001b[0m\n\u001b[0m",
      "\u001b[0;32m~/progs/brain_atlas_toolkit/src/brain_atlas_toolkit/graph_tools.py\u001b[0m in \u001b[0;36mget_progenitors\u001b[0;34m(self, nodename)\u001b[0m\n\u001b[1;32m     86\u001b[0m         \u001b[0mnodename\u001b[0m     \u001b[0mThe\u001b[0m \u001b[0mnode\u001b[0m \u001b[0mwhose\u001b[0m \u001b[0mparent\u001b[0m \u001b[0myou\u001b[0m \u001b[0mwant\u001b[0m \u001b[0mto\u001b[0m \u001b[0mretrieve\u001b[0m\u001b[0;34m\u001b[0m\u001b[0;34m\u001b[0m\u001b[0m\n\u001b[1;32m     87\u001b[0m         \"\"\"\n\u001b[0;32m---> 88\u001b[0;31m         \u001b[0mnode\u001b[0m \u001b[0;34m=\u001b[0m \u001b[0mself\u001b[0m\u001b[0;34m.\u001b[0m\u001b[0mgraph\u001b[0m\u001b[0;34m[\u001b[0m\u001b[0mnodename\u001b[0m\u001b[0;34m]\u001b[0m\u001b[0;34m\u001b[0m\u001b[0;34m\u001b[0m\u001b[0m\n\u001b[0m\u001b[1;32m     89\u001b[0m         \u001b[0mprogenitors_list\u001b[0m \u001b[0;34m=\u001b[0m \u001b[0;34m[\u001b[0m\u001b[0;34m]\u001b[0m\u001b[0;34m\u001b[0m\u001b[0;34m\u001b[0m\u001b[0m\n\u001b[1;32m     90\u001b[0m         \u001b[0mself\u001b[0m\u001b[0;34m.\u001b[0m\u001b[0mget_progenitors_helper\u001b[0m\u001b[0;34m(\u001b[0m\u001b[0mnode\u001b[0m\u001b[0;34m,\u001b[0m\u001b[0mprogenitors_list\u001b[0m\u001b[0;34m)\u001b[0m\u001b[0;34m\u001b[0m\u001b[0;34m\u001b[0m\u001b[0m\n",
      "\u001b[0;31mKeyError\u001b[0m: 'garbage'"
     ]
    }
   ],
   "source": [
    "ontology_graph.get_progenitors('garbage')"
   ]
  },
  {
   "cell_type": "markdown",
   "id": "da6789f1",
   "metadata": {},
   "source": [
    "# Get the id of a region in the atlas by name "
   ]
  },
  {
   "cell_type": "code",
   "execution_count": 1,
   "id": "5ae36196",
   "metadata": {},
   "outputs": [
    {
     "ename": "NameError",
     "evalue": "name 'ontology_graph' is not defined",
     "output_type": "error",
     "traceback": [
      "\u001b[0;31m---------------------------------------------------------------------------\u001b[0m",
      "\u001b[0;31mNameError\u001b[0m                                 Traceback (most recent call last)",
      "\u001b[0;32m<ipython-input-1-4d8243d3f27d>\u001b[0m in \u001b[0;36m<module>\u001b[0;34m\u001b[0m\n\u001b[0;32m----> 1\u001b[0;31m \u001b[0montology_graph\u001b[0m\u001b[0;34m.\u001b[0m\u001b[0mget_id\u001b[0m\u001b[0;34m(\u001b[0m\u001b[0;34m'Somatomotor areas'\u001b[0m\u001b[0;34m)\u001b[0m\u001b[0;34m\u001b[0m\u001b[0;34m\u001b[0m\u001b[0m\n\u001b[0m",
      "\u001b[0;31mNameError\u001b[0m: name 'ontology_graph' is not defined"
     ]
    }
   ],
   "source": [
    "ontology_graph.get_id('Somatomotor areas')"
   ]
  },
  {
   "cell_type": "code",
   "execution_count": 2,
   "id": "e224ae35",
   "metadata": {},
   "outputs": [
    {
     "ename": "NameError",
     "evalue": "name 'ontology_graph' is not defined",
     "output_type": "error",
     "traceback": [
      "\u001b[0;31m---------------------------------------------------------------------------\u001b[0m",
      "\u001b[0;31mNameError\u001b[0m                                 Traceback (most recent call last)",
      "\u001b[0;32m<ipython-input-2-ec07c67a3b3f>\u001b[0m in \u001b[0;36m<module>\u001b[0;34m\u001b[0m\n\u001b[1;32m      1\u001b[0m \u001b[0;31m# get ids of all of the progeny of this region\u001b[0m\u001b[0;34m\u001b[0m\u001b[0;34m\u001b[0m\u001b[0;34m\u001b[0m\u001b[0m\n\u001b[0;32m----> 2\u001b[0;31m \u001b[0mprogeny\u001b[0m \u001b[0;34m=\u001b[0m \u001b[0montology_graph\u001b[0m\u001b[0;34m.\u001b[0m\u001b[0mget_progeny\u001b[0m\u001b[0;34m(\u001b[0m\u001b[0;34m'Somatomotor areas'\u001b[0m\u001b[0;34m)\u001b[0m\u001b[0;34m\u001b[0m\u001b[0;34m\u001b[0m\u001b[0m\n\u001b[0m\u001b[1;32m      3\u001b[0m \u001b[0mlist\u001b[0m\u001b[0;34m(\u001b[0m\u001b[0mmap\u001b[0m\u001b[0;34m(\u001b[0m\u001b[0montology_graph\u001b[0m\u001b[0;34m.\u001b[0m\u001b[0mget_id\u001b[0m\u001b[0;34m,\u001b[0m\u001b[0mprogeny\u001b[0m\u001b[0;34m)\u001b[0m\u001b[0;34m)\u001b[0m\u001b[0;34m\u001b[0m\u001b[0;34m\u001b[0m\u001b[0m\n",
      "\u001b[0;31mNameError\u001b[0m: name 'ontology_graph' is not defined"
     ]
    }
   ],
   "source": [
    "# get ids of all of the progeny of this region\n",
    "progeny = ontology_graph.get_progeny('Somatomotor areas')\n",
    "list(map(ontology_graph.get_id,progeny))"
   ]
  },
  {
   "cell_type": "markdown",
   "id": "d9e83ac6",
   "metadata": {},
   "source": [
    "## Get the parent of a region by name"
   ]
  },
  {
   "cell_type": "code",
   "execution_count": null,
   "id": "eab7d74a",
   "metadata": {},
   "outputs": [],
   "source": [
    "ontology_graph.get_parent('Somatomotor areas')"
   ]
  },
  {
   "cell_type": "code",
   "execution_count": null,
   "id": "4efecde2",
   "metadata": {},
   "outputs": [],
   "source": [
    "# Note that the root of the ontology has no parent\n",
    "ontology_graph.get_parent('root') # returns None"
   ]
  },
  {
   "cell_type": "markdown",
   "id": "97b029ab",
   "metadata": {},
   "source": [
    "## Get the acronym of a region by name\n",
    "Might not always be available if using a custom ontology"
   ]
  },
  {
   "cell_type": "code",
   "execution_count": null,
   "id": "2692d6ae",
   "metadata": {},
   "outputs": [],
   "source": [
    "ontology_graph.get_acronym('Somatomotor areas')"
   ]
  },
  {
   "cell_type": "code",
   "execution_count": null,
   "id": "1f431520",
   "metadata": {
    "scrolled": false
   },
   "outputs": [],
   "source": [
    "allen_cb = ontology_graph.print_branch('Cerebellum')\n",
    "pma_cb = pma_ontology_graph.print_branch('Cerebellum')"
   ]
  },
  {
   "cell_type": "code",
   "execution_count": null,
   "id": "3a38dffe",
   "metadata": {},
   "outputs": [],
   "source": [
    "allen_cb == pma_cb"
   ]
  },
  {
   "cell_type": "code",
   "execution_count": null,
   "id": "683b7406",
   "metadata": {},
   "outputs": [],
   "source": []
  }
 ],
 "metadata": {
  "kernelspec": {
   "display_name": "neuro",
   "language": "python",
   "name": "neuro"
  },
  "language_info": {
   "codemirror_mode": {
    "name": "ipython",
    "version": 3
   },
   "file_extension": ".py",
   "mimetype": "text/x-python",
   "name": "python",
   "nbconvert_exporter": "python",
   "pygments_lexer": "ipython3",
   "version": "3.8.11"
  }
 },
 "nbformat": 4,
 "nbformat_minor": 5
}
